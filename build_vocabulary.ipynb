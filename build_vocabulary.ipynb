{
 "cells": [
  {
   "cell_type": "code",
   "execution_count": 38,
   "id": "initial_id",
   "metadata": {
    "collapsed": true,
    "ExecuteTime": {
     "end_time": "2023-12-22T18:24:41.726578108Z",
     "start_time": "2023-12-22T18:24:41.718908974Z"
    }
   },
   "outputs": [],
   "source": [
    "import os\n",
    "import json\n",
    "from collections import defaultdict\n",
    "\n",
    "import spacy\n",
    "from tqdm import tqdm"
   ]
  },
  {
   "cell_type": "code",
   "execution_count": 20,
   "outputs": [],
   "source": [
    "train_labels_path = 'data/deepfashion-multimodal/train_captions.json'\n",
    "with open(train_labels_path, 'rb') as fp:\n",
    "    train_labels = json.load(fp)"
   ],
   "metadata": {
    "collapsed": false,
    "ExecuteTime": {
     "end_time": "2023-12-22T17:57:22.680189098Z",
     "start_time": "2023-12-22T17:57:22.661974009Z"
    }
   },
   "id": "3657c8727a5ca400"
  },
  {
   "cell_type": "code",
   "execution_count": 44,
   "outputs": [
    {
     "name": "stderr",
     "output_type": "stream",
     "text": [
      "Building vocabulary: 100%|██████████| 10155/10155 [01:01<00:00, 165.13it/s]\n"
     ]
    }
   ],
   "source": [
    "nlp = spacy.load(\"en_core_web_sm\")\n",
    "\n",
    "word_counts = defaultdict(int)\n",
    "\n",
    "for _, text_label in tqdm(train_labels.items(), desc='Building vocabulary'):\n",
    "    doc = nlp(text_label)\n",
    "    for token in doc:\n",
    "        word_counts[token.text.lower()] += 1"
   ],
   "metadata": {
    "collapsed": false,
    "ExecuteTime": {
     "end_time": "2023-12-22T18:29:35.697867397Z",
     "start_time": "2023-12-22T18:28:33.942038374Z"
    }
   },
   "id": "8c9e88bf8acdb7f0"
  },
  {
   "cell_type": "code",
   "execution_count": 36,
   "outputs": [],
   "source": [
    "vocabulary = {k: i+1 for i, k in enumerate(word_counts.keys())}\n",
    "vocabulary['<pad>'] = 0\n",
    "vocabulary['<unk>'] = len(vocabulary)\n",
    "vocabulary['<start>'] = len(vocabulary)\n",
    "vocabulary['<end>'] = len(vocabulary)"
   ],
   "metadata": {
    "collapsed": false,
    "ExecuteTime": {
     "end_time": "2023-12-22T18:05:42.485280596Z",
     "start_time": "2023-12-22T18:05:42.468869002Z"
    }
   },
   "id": "2350b44c426bc5ec"
  },
  {
   "cell_type": "code",
   "execution_count": 37,
   "outputs": [],
   "source": [
    "# 存储词典\n",
    "with open(os.path.join('data/deepfashion-multimodal', 'vocab.json'), 'w') as fw:\n",
    "    json.dump(vocabulary, fw)"
   ],
   "metadata": {
    "collapsed": false,
    "ExecuteTime": {
     "end_time": "2023-12-22T18:06:11.116052681Z",
     "start_time": "2023-12-22T18:06:11.046798281Z"
    }
   },
   "id": "626bb627d943d8cb"
  },
  {
   "cell_type": "code",
   "execution_count": null,
   "outputs": [],
   "source": [],
   "metadata": {
    "collapsed": false
   },
   "id": "c7c0e4c9ae0aa4e0"
  }
 ],
 "metadata": {
  "kernelspec": {
   "display_name": "Python 3",
   "language": "python",
   "name": "python3"
  },
  "language_info": {
   "codemirror_mode": {
    "name": "ipython",
    "version": 2
   },
   "file_extension": ".py",
   "mimetype": "text/x-python",
   "name": "python",
   "nbconvert_exporter": "python",
   "pygments_lexer": "ipython2",
   "version": "2.7.6"
  }
 },
 "nbformat": 4,
 "nbformat_minor": 5
}
