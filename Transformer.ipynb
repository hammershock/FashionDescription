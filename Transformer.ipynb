{
 "cells": [
  {
   "cell_type": "markdown",
   "source": [
    "### 一、导入依赖"
   ],
   "metadata": {
    "collapsed": false
   },
   "id": "7973284d95808683"
  },
  {
   "cell_type": "code",
   "execution_count": 1,
   "id": "d0de8816236379ee",
   "metadata": {
    "collapsed": true,
    "ExecuteTime": {
     "end_time": "2023-12-25T08:06:28.788149547Z",
     "start_time": "2023-12-25T08:06:26.511819588Z"
    }
   },
   "outputs": [],
   "source": [
    "from datetime import datetime, timedelta\n",
    "import os\n",
    "import json\n",
    "import random\n",
    "import logging\n",
    "import warnings\n",
    "import math\n",
    "from typing import List, Set, Tuple\n",
    "\n",
    "import numpy as np\n",
    "import torch\n",
    "from torch.utils.data import Dataset, DataLoader\n",
    "from torchvision.transforms import Compose, Resize, Normalize, ToTensor\n",
    "from torch.utils.tensorboard import SummaryWriter\n",
    "\n",
    "from tqdm import tqdm\n",
    "import torch.nn as nn\n",
    "from torch import distributions\n",
    "import torch.nn.functional as F\n",
    "import matplotlib.pyplot as plt\n",
    "from PIL import Image\n",
    "import spacy\n",
    "from rouge import Rouge"
   ]
  },
  {
   "cell_type": "markdown",
   "source": [
    "### 二、加载/构建词表"
   ],
   "metadata": {
    "collapsed": false
   },
   "id": "96ce1357f61cc175"
  },
  {
   "cell_type": "code",
   "execution_count": 2,
   "outputs": [],
   "source": [
    "class OOVWarning(Warning):\n",
    "    pass\n",
    "\n",
    "\n",
    "class EndLabelNotFoundWarning(Warning):\n",
    "    pass\n",
    "\n",
    "\n",
    "class Vocabulary:\n",
    "    def __init__(self, json_filepath):\n",
    "        with open(json_filepath, 'rb') as fp:\n",
    "            self._content: dict = json.load(fp)  # str -> int\n",
    "        self.inv = {v: k for k, v in self._content.items()}  # int -> str\n",
    "\n",
    "        self.pad: int = self._content['<pad>']  # int\n",
    "        self.start: int = self._content['<start>']  # int\n",
    "        self.end: int = self._content['<end>']  # int\n",
    "        self.unk: int = self._content['<unk>']  # int\n",
    "        self.spec_words: Set[int] = {self.pad, self.start, self.end, self.unk}  # 特殊字符\n",
    "        self.size = len(self._content)\n",
    "        self.nlp = spacy.load(\"en_core_web_sm\")\n",
    "\n",
    "    @staticmethod\n",
    "    def build(raw_documents: List[str], save_path):\n",
    "        \"\"\"\n",
    "        Vocabulary Factory\n",
    "        :param raw_documents:\n",
    "        :param save_path:\n",
    "        :return:\n",
    "        \"\"\"\n",
    "        content = {'<pad>': 0, '<start>': 1, '<end>': 2, '<unk>': 3}\n",
    "        nlp = spacy.load(\"en_core_web_sm\")\n",
    "        for raw_document in tqdm(raw_documents):\n",
    "            for token in nlp(raw_document):\n",
    "                if token.text.lower() not in content:\n",
    "                    content[token.text.lower()] = len(content)\n",
    "        with open(save_path, 'w') as fw:\n",
    "            json.dump(content, fw)\n",
    "        return Vocabulary(save_path)\n",
    "\n",
    "    def __len__(self):\n",
    "        return len(self._content)\n",
    "\n",
    "    def __getitem__(self, word):\n",
    "        if word in self._content:\n",
    "            return self._content[word]\n",
    "        else:\n",
    "            warnings.warn(f'词表之外的词汇{word}，被编码为 <unk>', OOVWarning)\n",
    "            return self.unk\n",
    "\n",
    "    def get_word2vec(self, cache_path='word2vec.npy'):\n",
    "        \"\"\"获取词表的词向量嵌入, spacy提供的支持，固定提供96维词嵌入\"\"\"\n",
    "        try:\n",
    "            return np.load(cache_path)\n",
    "        except FileNotFoundError:\n",
    "            logging.log(0, 'building word2vec matrix...')\n",
    "            word2vecs = []\n",
    "            for idx, word in self.inv.items():\n",
    "                word2vecs.append(\n",
    "                    self.nlp(word)[0].tensor if idx not in self.spec_words else np.random.randn(96))  # nlp提供96维嵌入\n",
    "            np.save(cache_path, np.array(word2vecs))\n",
    "            return np.array(word2vecs)\n",
    "\n",
    "    @staticmethod\n",
    "    def post_process(string: str):\n",
    "        s1 = string.replace(' .', '.').replace(' ,', ',').replace(' -', '-').replace('- ', '-')  # 标点间隔0\n",
    "        s2 = s1[0].upper() + s1[1:]  # 开头大写\n",
    "        return s2\n",
    "\n",
    "    def encode(self, sentence, fixed_length=None) -> List[int]:\n",
    "        \"\"\"\n",
    "        将文本编码为序列\n",
    "        :param sentence:\n",
    "        :param\n",
    "        :return:\n",
    "        \"\"\"\n",
    "        indices = [self.start] + [self[token.text.lower()] for token in self.nlp(sentence)] + [self.end]\n",
    "        if fixed_length is not None:\n",
    "            indices = (indices + [self.pad] * (fixed_length - len(indices)))[:fixed_length]\n",
    "        return indices\n",
    "\n",
    "    def decode(self, sequence: List[int]) -> str:\n",
    "        \"\"\"\n",
    "        将序列解码为文本，跳过特殊字符，遇到终止符结束\n",
    "        :param sequence:\n",
    "        :return:\n",
    "        \"\"\"\n",
    "        words = []\n",
    "        for idx in sequence:\n",
    "            if idx == self.end:\n",
    "                break\n",
    "            if idx not in self.inv:\n",
    "                raise KeyError(f'索引{idx}超出了词表的范围，词表长度：{self.__len__()}')\n",
    "            elif idx not in self.spec_words:  # 跳过特殊字符\n",
    "                words.append(self.inv[idx])\n",
    "        else:\n",
    "            warnings.warn('没有在序列中发现终止符<end>', EndLabelNotFoundWarning)\n",
    "        return self.post_process(' '.join(words))\n"
   ],
   "metadata": {
    "collapsed": false,
    "ExecuteTime": {
     "end_time": "2023-12-25T08:06:37.349271287Z",
     "start_time": "2023-12-25T08:06:37.347122575Z"
    }
   },
   "id": "a32518c04a7a9f61"
  },
  {
   "cell_type": "code",
   "execution_count": 4,
   "outputs": [],
   "source": [
    "root_dir = 'data/deepfashion-multimodal'\n",
    "\n",
    "vocabulary = Vocabulary('vocab.json')"
   ],
   "metadata": {
    "collapsed": false,
    "ExecuteTime": {
     "end_time": "2023-12-25T08:06:54.194024391Z",
     "start_time": "2023-12-25T08:06:53.813872445Z"
    }
   },
   "id": "44f16c5bc39bf7b3"
  },
  {
   "cell_type": "markdown",
   "source": [
    "### 三、构建数据集"
   ],
   "metadata": {
    "collapsed": false
   },
   "id": "6bc03d0dc7daf84d"
  },
  {
   "cell_type": "code",
   "execution_count": 5,
   "outputs": [],
   "source": [
    "class ImageTextDataset(Dataset):\n",
    "    def __init__(self, root_dir, vocabulary: Vocabulary, max_seq_len, transform=lambda x: x, train=True, split=True):\n",
    "        \"\"\"\n",
    "        Args:\n",
    "            root_dir (string): Root directory of the dataset.\n",
    "            transform (callable, optional): Optional transform to be applied on a sample.\n",
    "        \"\"\"\n",
    "        label_path = os.path.join(root_dir, f'{\"train\" if train else \"test\"}_captions{\"_split\" if split else \"\"}.json')\n",
    "        with open(label_path, 'rb') as fp:\n",
    "            self.filenames, self.labels = zip(*json.load(fp)) if split else zip(*json.load(fp).items())\n",
    "\n",
    "        self.root_dir = root_dir\n",
    "\n",
    "        self.vocabulary = vocabulary\n",
    "        self.max_seq_len = max_seq_len\n",
    "        self.transform = transform\n",
    "\n",
    "        self.image_cache = {}\n",
    "        self.image_size = None\n",
    "\n",
    "    def __len__(self):\n",
    "        return len(self.filenames)\n",
    "\n",
    "    def get_pair(self, idx):\n",
    "        image_path = os.path.join(self.root_dir, 'images', self.filenames[idx])\n",
    "        text_label = self.labels[idx]\n",
    "        return image_path, text_label\n",
    "    \n",
    "\n",
    "    def __getitem__(self, idx):\n",
    "        if torch.is_tensor(idx):\n",
    "            idx = idx.tolist()\n",
    "        \n",
    "        image_path = os.path.join(self.root_dir, 'images', self.filenames[idx])\n",
    "        if image_path not in self.image_cache:  # 如果图像不在缓存中\n",
    "            image = self.transform(Image.open(image_path))\n",
    "            # 估算图像大小\n",
    "            if self.image_size is None:\n",
    "                self.image_size = image.element_size() * image.nelement()  # 单位：字节\n",
    "            # 检查是否超过60GB限制\n",
    "            if len(self.image_cache) * self.image_size <= 16 * 1024**3:  # 60GB\n",
    "                self.image_cache[image_path] = image  # 缓存图像\n",
    "        else:\n",
    "            image = self.image_cache[image_path]  # 从缓存中获取图像\n",
    "\n",
    "        indices = vocabulary.encode(self.labels[idx], fixed_length=self.max_seq_len)\n",
    "        seq = torch.LongTensor(np.array(indices))\n",
    "\n",
    "        return image, seq"
   ],
   "metadata": {
    "collapsed": false,
    "ExecuteTime": {
     "end_time": "2023-12-25T08:06:55.084112964Z",
     "start_time": "2023-12-25T08:06:55.073068773Z"
    }
   },
   "id": "initial_id"
  },
  {
   "cell_type": "markdown",
   "source": [
    "### 四、搭建模型"
   ],
   "metadata": {
    "collapsed": false
   },
   "id": "66bc6334f9da4f98"
  },
  {
   "cell_type": "code",
   "execution_count": 6,
   "outputs": [],
   "source": [
    "class ImageEncoder(nn.Module):\n",
    "    def __init__(self, channels_in, channels_out):\n",
    "        \"\"\"\n",
    "        CNN图像编码器，得到图像局部特征图\n",
    "        :param channels_in: 输入图像通道数\n",
    "        :param channels_out: \n",
    "        \"\"\"\n",
    "        super(ImageEncoder, self).__init__()\n",
    "        self.conv_layers = nn.Sequential(\n",
    "            nn.Conv2d(channels_in, 64, kernel_size=3, stride=2, padding=1),\n",
    "            nn.ReLU(),\n",
    "            nn.Conv2d(64, 128, kernel_size=3, stride=2, padding=1),\n",
    "            nn.ReLU(),\n",
    "            nn.Conv2d(128, 128, kernel_size=3, stride=2, padding=1),\n",
    "            nn.ReLU(),\n",
    "            nn.Conv2d(128, 128, kernel_size=3, stride=2, padding=1),\n",
    "            nn.ReLU(),\n",
    "            nn.Conv2d(128, 128, kernel_size=3, stride=2, padding=1),\n",
    "            nn.ReLU(),\n",
    "            nn.Conv2d(128, 128, kernel_size=3, stride=2, padding=1),\n",
    "            nn.ReLU(),\n",
    "            nn.Conv2d(128, channels_out, kernel_size=3, stride=2, padding=1),\n",
    "            nn.ReLU(),\n",
    "        )\n",
    "\n",
    "    def forward(self, x):\n",
    "        x = self.conv_layers(x)\n",
    "        return x\n",
    "\n",
    "\n",
    "\n",
    "def generate_square_subsequent_mask(size):\n",
    "    mask = torch.triu(torch.ones(size, size), diagonal=1).type(torch.bool)\n",
    "    return mask\n",
    "\n",
    "\n",
    "class PositionalEncoding(nn.Module):\n",
    "    def __init__(self, d_model, max_len=5000):\n",
    "        super(PositionalEncoding, self).__init__()\n",
    "        pe = torch.zeros(max_len, d_model)\n",
    "        position = torch.arange(0, max_len, dtype=torch.float).unsqueeze(1)\n",
    "        div_term = torch.exp(torch.arange(0, d_model, 2).float() * (-math.log(10000.0) / d_model))\n",
    "        pe[:, 0::2] = torch.sin(position * div_term)\n",
    "        pe[:, 1::2] = torch.cos(position * div_term)\n",
    "        pe = pe.unsqueeze(0).transpose(0, 1)\n",
    "        self.register_buffer('pe', pe)\n",
    "\n",
    "    def forward(self, x):\n",
    "        \"\"\"为序列注入位置编码\"\"\"\n",
    "        x = x + self.pe[:x.size(0), :]\n",
    "        return x\n",
    "\n",
    "\n",
    "class AttentionDecoder(nn.Module):\n",
    "    def __init__(self, vocab_size, text_embed_dim, feature_channels, hidden_size, num_layers, num_heads, \n",
    "                 pretrained_embeddings=None):\n",
    "        super(AttentionDecoder, self).__init__()\n",
    "\n",
    "        if pretrained_embeddings is not None:\n",
    "            assert pretrained_embeddings.shape == (vocab_size, text_embed_dim), \"预训练嵌入向量尺寸不匹配\"\n",
    "            # 使用预训练的嵌入向量\n",
    "            self.text_embed = nn.Embedding.from_pretrained(torch.FloatTensor(pretrained_embeddings), freeze=False)\n",
    "        else:\n",
    "            # 随机初始化嵌入向量\n",
    "            self.text_embed = nn.Embedding(vocab_size, text_embed_dim)\n",
    "        \n",
    "        self.image_feature_projection = nn.Conv2d(in_channels=feature_channels, \n",
    "                                                  out_channels=hidden_size, \n",
    "                                                  kernel_size=1)\n",
    "        \n",
    "        self.text_feature_projection = nn.Conv1d(in_channels=text_embed_dim, \n",
    "                                                 out_channels=hidden_size, \n",
    "                                                 kernel_size=1)\n",
    "        \n",
    "        self.positional_encoder = PositionalEncoding(hidden_size, max_len=max_seq_length)\n",
    "        \n",
    "        self.self_attention = nn.MultiheadAttention(embed_dim=hidden_size, num_heads=num_heads)\n",
    "        self.self_attention2 = nn.MultiheadAttention(embed_dim=hidden_size, num_heads=num_heads)\n",
    "        self.self_attention3 = nn.MultiheadAttention(embed_dim=hidden_size, num_heads=num_heads)\n",
    "        \n",
    "        self.cross_attention = nn.MultiheadAttention(embed_dim=hidden_size, num_heads=num_heads)\n",
    "        \n",
    "        # 定义多个 Transformer 解码器层\n",
    "        self.decoder_layers = nn.ModuleList([nn.TransformerDecoderLayer(d_model=hidden_size, nhead=num_heads)\n",
    "                                             for _ in range(num_layers)])\n",
    "        self.transformer_decoder = nn.TransformerDecoder(self.decoder_layers, num_layers)\n",
    "        \n",
    "        # self.decoder_layers = nn.TransformerDecoderLayer(d_model=hidden_size, nhead=num_heads)\n",
    "        # self.transformer_decoder = nn.TransformerDecoder(self.decoder_layers, num_layers)\n",
    "        self.fc_out = nn.Linear(hidden_size, vocab_size)\n",
    "        \n",
    "\n",
    "    \n",
    "    def forward(self, text_seq, image_features):\n",
    "        # text_seq: (batch_size, seq_len)\n",
    "        # image_features: (batch_size, feature_channels, feature_height, feature_width)\n",
    "        \n",
    "        text_embeds = self.text_embed(text_seq)  # (batch_size, seq_len, text_embed_dim)\n",
    "        text_embeds = text_embeds.permute(0, 2, 1)  # (batch_size, text_embed_dim, seq_len)\n",
    "        text_embeds = self.text_feature_projection(text_embeds)  # (batch_size, hidden_size, seq_len)\n",
    "        text_embeds = text_embeds.permute(2, 0, 1)  # (seq_len, batch_size, hidden_size)\n",
    "        \n",
    "        text_embeds = self.positional_encoder(text_embeds)\n",
    "        \n",
    "        # 展平图像特征并通过线性层投影\n",
    "        batch_size, C, H, W = image_features.size()\n",
    "        image_features = self.image_feature_projection(image_features)  # (B, hidden_size, H, W)\n",
    "        image_features = image_features.permute(2, 3, 0, 1).contiguous()  # (H, W, batch_size, hidden_size)\n",
    "        image_features = image_features.view(H * W, batch_size, -1)  # (H*W, batch_size, hidden_size)\n",
    "        \n",
    "        # 生成注意力掩码\n",
    "        seq_len = text_seq.size(1)\n",
    "        attn_mask = generate_square_subsequent_mask(seq_len).to(text_seq.device)\n",
    "        \n",
    "        # 使用自注意力（应用掩码）\n",
    "        text_embeds, _ = self.self_attention(text_embeds, text_embeds, text_embeds, attn_mask=attn_mask)\n",
    "        text_embeds, _ = self.self_attention2(text_embeds, text_embeds, text_embeds, attn_mask=attn_mask)\n",
    "        text_embeds, _ = self.self_attention3(text_embeds, text_embeds, text_embeds, attn_mask=attn_mask)  # (seq_len, batch_size, hidden_size)\n",
    "\n",
    "        # 使用跨模态注意力\n",
    "        text_embeds, image_attention_weights = self.cross_attention(text_embeds, image_features, image_features)# (seq_len, batch_size, hidden_size)\n",
    "\n",
    "        # 使用 Transformer 解码器\n",
    "        output = self.transformer_decoder(text_embeds, image_features)  # (seq_len, batch_size, hidden_size)\n",
    "        output = output.permute(1, 0, 2)  # (batch_size, seq_len, hidden_size)\n",
    "\n",
    "        # 应用输出层\n",
    "        output = self.fc_out(output)  # (batch_size, seq_len, vocab_size)\n",
    "        return output, image_attention_weights\n",
    "\n",
    "\n",
    "class ImageTextAttentionModel(nn.Module):\n",
    "    def __init__(self, vocab_size, channels, feature_channels, text_embed_dim, hidden_size, num_layers, num_heads, \n",
    "                 pretrained_embeddings=None):\n",
    "        super(ImageTextAttentionModel, self).__init__()\n",
    "        self.encoder = ImageEncoder(channels, feature_channels)\n",
    "        self.decoder = AttentionDecoder(vocab_size, text_embed_dim, feature_channels, hidden_size, num_layers, num_heads, \n",
    "                                        pretrained_embeddings=pretrained_embeddings)\n",
    "\n",
    "    def forward(self, images, seq):\n",
    "        image_features = self.encoder(images)  # 提取图像特征图\n",
    "        output, attention_weights = self.decoder(seq, image_features)\n",
    "        return output, attention_weights\n",
    "    \n",
    "    def predict(self, image: Image.Image, seq: List[int], device) -> Tuple[torch.Tensor, torch.Tensor]:\n",
    "        \"\"\"\n",
    "        \n",
    "        :param image: \n",
    "        :param seq: \n",
    "        :param device: \n",
    "        :return: probs\n",
    "        \"\"\"\n",
    "        assert isinstance(seq, list)\n",
    "        image = transform(image).unsqueeze(0).to(device)  # -> (1, channel, img_size, img_size)\n",
    "        seq = torch.LongTensor(seq).unsqueeze(0).to(device)\n",
    "        with torch.no_grad():\n",
    "            out, attention_weights = self.forward(image, seq)\n",
    "            probs = F.softmax(out[:, -1, :], dim=-1)  # 应用 softmax 获取概率分布\n",
    "        return probs, attention_weights  # (vocab_size, )"
   ],
   "metadata": {
    "collapsed": false,
    "ExecuteTime": {
     "end_time": "2023-12-25T08:06:56.236576121Z",
     "start_time": "2023-12-25T08:06:56.215435660Z"
    }
   },
   "id": "1527426b2f294f2b"
  },
  {
   "cell_type": "code",
   "execution_count": 11,
   "outputs": [
    {
     "data": {
      "text/plain": "device(type='cuda')"
     },
     "execution_count": 11,
     "metadata": {},
     "output_type": "execute_result"
    }
   ],
   "source": [
    "# 训练配置\n",
    "epochs = 200\n",
    "image_size = (256, 256)\n",
    "lr = 5e-4\n",
    "batch_size = 32\n",
    "image_embed_dim = 64\n",
    "text_embed_dim = 96\n",
    "feature_channels = 128\n",
    "hidden_size = 64\n",
    "num_layers = 4\n",
    "num_heads = 4\n",
    "model_name = 'transformer'\n",
    "\n",
    "channels = 3\n",
    "max_seq_length = 128  # 序列最大长度\n",
    "\n",
    "# 可用的训练设备\n",
    "device = torch.device('cuda') if torch.cuda.is_available() else torch.device('cpu')\n",
    "device"
   ],
   "metadata": {
    "collapsed": false,
    "ExecuteTime": {
     "end_time": "2023-12-25T08:11:16.471869073Z",
     "start_time": "2023-12-25T08:11:16.447142975Z"
    }
   },
   "id": "b42c67ffc6e0090a"
  },
  {
   "cell_type": "markdown",
   "source": [
    "### 五、加载模型权重"
   ],
   "metadata": {
    "collapsed": false
   },
   "id": "fa7df3bcf946205f"
  },
  {
   "cell_type": "code",
   "execution_count": 12,
   "outputs": [
    {
     "name": "stdout",
     "output_type": "stream",
     "text": [
      "rebuilding model\n"
     ]
    }
   ],
   "source": [
    "os.makedirs('history', exist_ok=True)\n",
    "os.makedirs('models', exist_ok=True)\n",
    "history_path = f'history/history_{model_name}.npy'\n",
    "model_path = f'models/model_{model_name}.pth'\n",
    "\n",
    "\n",
    "# 模型初始化\n",
    "model = ImageTextAttentionModel(len(vocabulary), channels, feature_channels, text_embed_dim, hidden_size, num_layers, num_heads,\n",
    "                       pretrained_embeddings=vocabulary.get_word2vec()).to(device)\n",
    "\n",
    "running_losses, val_losses, val_accuracies = [], [], []\n",
    "try:\n",
    "    if os.path.exists(model_path):\n",
    "        model.load_state_dict(torch.load(model_path))\n",
    "        running_losses, val_losses, val_accuracies = np.load(history_path).tolist() if os.path.exists(history_path) else ([], [], [])\n",
    "except Exception as e:\n",
    "    print('rebuilding model')\n",
    "    \n",
    "\n",
    "transform = Compose([\n",
    "    Resize(image_size),\n",
    "    ToTensor(),\n",
    "    Normalize(mean=[0.485, 0.456, 0.406], std=[0.229, 0.224, 0.225]),\n",
    "])"
   ],
   "metadata": {
    "collapsed": false,
    "ExecuteTime": {
     "end_time": "2023-12-25T08:11:17.884811701Z",
     "start_time": "2023-12-25T08:11:17.837413498Z"
    }
   },
   "id": "f2543bdc535f1b57"
  },
  {
   "cell_type": "markdown",
   "source": [
    "### 六、加载数据集"
   ],
   "metadata": {
    "collapsed": false
   },
   "id": "be44ce2c20f8bbf9"
  },
  {
   "cell_type": "code",
   "execution_count": 9,
   "outputs": [],
   "source": [
    "# 加载数据集\n",
    "train_set = ImageTextDataset(root_dir=root_dir, vocabulary=vocabulary, max_seq_len=max_seq_length, transform=transform,\n",
    "                             train=True, split=False)\n",
    "train_loader = DataLoader(train_set, batch_size=batch_size, shuffle=True)\n",
    "val_set = ImageTextDataset(root_dir=root_dir, vocabulary=vocabulary, max_seq_len=max_seq_length, transform=transform,\n",
    "                           train=False, split=False)\n",
    "val_loader = DataLoader(train_set, batch_size=batch_size, shuffle=True)"
   ],
   "metadata": {
    "collapsed": false,
    "ExecuteTime": {
     "end_time": "2023-12-25T08:07:03.396378224Z",
     "start_time": "2023-12-25T08:07:03.375955885Z"
    }
   },
   "id": "1d26cd51ac7e660a"
  },
  {
   "cell_type": "markdown",
   "source": [
    "### 七、开始训练"
   ],
   "metadata": {
    "collapsed": false
   },
   "id": "482b6d09c066bf2e"
  },
  {
   "cell_type": "code",
   "execution_count": 13,
   "outputs": [
    {
     "name": "stderr",
     "output_type": "stream",
     "text": [
      " 26%|██▋       | 53/200 [2:06:56<5:52:04, 143.70s/it, loss=0.0436, progress=16 / 318, save_count_down=116, val_acc=97.5334%, val_loss=0.0294]  \n"
     ]
    },
    {
     "ename": "KeyboardInterrupt",
     "evalue": "",
     "output_type": "error",
     "traceback": [
      "\u001B[0;31m---------------------------------------------------------------------------\u001B[0m",
      "\u001B[0;31mKeyboardInterrupt\u001B[0m                         Traceback (most recent call last)",
      "Cell \u001B[0;32mIn[13], line 21\u001B[0m\n\u001B[1;32m     19\u001B[0m model\u001B[38;5;241m.\u001B[39mtrain()\n\u001B[1;32m     20\u001B[0m last_save_time \u001B[38;5;241m=\u001B[39m datetime\u001B[38;5;241m.\u001B[39mnow()\n\u001B[0;32m---> 21\u001B[0m \u001B[43m\u001B[49m\u001B[38;5;28;43;01mfor\u001B[39;49;00m\u001B[43m \u001B[49m\u001B[43mbatch_idx\u001B[49m\u001B[43m,\u001B[49m\u001B[43m \u001B[49m\u001B[43m(\u001B[49m\u001B[43mimage\u001B[49m\u001B[43m,\u001B[49m\u001B[43m \u001B[49m\u001B[43mseq\u001B[49m\u001B[43m)\u001B[49m\u001B[43m \u001B[49m\u001B[38;5;129;43;01min\u001B[39;49;00m\u001B[43m \u001B[49m\u001B[38;5;28;43menumerate\u001B[39;49m\u001B[43m(\u001B[49m\u001B[43mtrain_loader\u001B[49m\u001B[43m)\u001B[49m\u001B[43m:\u001B[49m\n\u001B[1;32m     22\u001B[0m \u001B[43m    \u001B[49m\u001B[43mimage\u001B[49m\u001B[43m \u001B[49m\u001B[38;5;241;43m=\u001B[39;49m\u001B[43m \u001B[49m\u001B[43mimage\u001B[49m\u001B[38;5;241;43m.\u001B[39;49m\u001B[43mto\u001B[49m\u001B[43m(\u001B[49m\u001B[43mdevice\u001B[49m\u001B[43m)\u001B[49m\u001B[43m  \u001B[49m\u001B[38;5;66;43;03m# 图像数据\u001B[39;49;00m\n\u001B[1;32m     23\u001B[0m \u001B[43m    \u001B[49m\u001B[43mseq\u001B[49m\u001B[43m \u001B[49m\u001B[38;5;241;43m=\u001B[39;49m\u001B[43m \u001B[49m\u001B[43mseq\u001B[49m\u001B[38;5;241;43m.\u001B[39;49m\u001B[43mto\u001B[49m\u001B[43m(\u001B[49m\u001B[43mdevice\u001B[49m\u001B[43m)\u001B[49m\u001B[43m  \u001B[49m\u001B[38;5;66;43;03m# 序列数据\u001B[39;49;00m\n",
      "File \u001B[0;32m~/Documents/PycharmProjects/FashionDescription/venv/lib/python3.11/site-packages/torch/utils/data/dataloader.py:630\u001B[0m, in \u001B[0;36m_BaseDataLoaderIter.__next__\u001B[0;34m(self)\u001B[0m\n\u001B[1;32m    627\u001B[0m \u001B[38;5;28;01mif\u001B[39;00m \u001B[38;5;28mself\u001B[39m\u001B[38;5;241m.\u001B[39m_sampler_iter \u001B[38;5;129;01mis\u001B[39;00m \u001B[38;5;28;01mNone\u001B[39;00m:\n\u001B[1;32m    628\u001B[0m     \u001B[38;5;66;03m# TODO(https://github.com/pytorch/pytorch/issues/76750)\u001B[39;00m\n\u001B[1;32m    629\u001B[0m     \u001B[38;5;28mself\u001B[39m\u001B[38;5;241m.\u001B[39m_reset()  \u001B[38;5;66;03m# type: ignore[call-arg]\u001B[39;00m\n\u001B[0;32m--> 630\u001B[0m data \u001B[38;5;241m=\u001B[39m \u001B[38;5;28;43mself\u001B[39;49m\u001B[38;5;241;43m.\u001B[39;49m\u001B[43m_next_data\u001B[49m\u001B[43m(\u001B[49m\u001B[43m)\u001B[49m\n\u001B[1;32m    631\u001B[0m \u001B[38;5;28mself\u001B[39m\u001B[38;5;241m.\u001B[39m_num_yielded \u001B[38;5;241m+\u001B[39m\u001B[38;5;241m=\u001B[39m \u001B[38;5;241m1\u001B[39m\n\u001B[1;32m    632\u001B[0m \u001B[38;5;28;01mif\u001B[39;00m \u001B[38;5;28mself\u001B[39m\u001B[38;5;241m.\u001B[39m_dataset_kind \u001B[38;5;241m==\u001B[39m _DatasetKind\u001B[38;5;241m.\u001B[39mIterable \u001B[38;5;129;01mand\u001B[39;00m \\\n\u001B[1;32m    633\u001B[0m         \u001B[38;5;28mself\u001B[39m\u001B[38;5;241m.\u001B[39m_IterableDataset_len_called \u001B[38;5;129;01mis\u001B[39;00m \u001B[38;5;129;01mnot\u001B[39;00m \u001B[38;5;28;01mNone\u001B[39;00m \u001B[38;5;129;01mand\u001B[39;00m \\\n\u001B[1;32m    634\u001B[0m         \u001B[38;5;28mself\u001B[39m\u001B[38;5;241m.\u001B[39m_num_yielded \u001B[38;5;241m>\u001B[39m \u001B[38;5;28mself\u001B[39m\u001B[38;5;241m.\u001B[39m_IterableDataset_len_called:\n",
      "File \u001B[0;32m~/Documents/PycharmProjects/FashionDescription/venv/lib/python3.11/site-packages/torch/utils/data/dataloader.py:674\u001B[0m, in \u001B[0;36m_SingleProcessDataLoaderIter._next_data\u001B[0;34m(self)\u001B[0m\n\u001B[1;32m    672\u001B[0m \u001B[38;5;28;01mdef\u001B[39;00m \u001B[38;5;21m_next_data\u001B[39m(\u001B[38;5;28mself\u001B[39m):\n\u001B[1;32m    673\u001B[0m     index \u001B[38;5;241m=\u001B[39m \u001B[38;5;28mself\u001B[39m\u001B[38;5;241m.\u001B[39m_next_index()  \u001B[38;5;66;03m# may raise StopIteration\u001B[39;00m\n\u001B[0;32m--> 674\u001B[0m     data \u001B[38;5;241m=\u001B[39m \u001B[38;5;28;43mself\u001B[39;49m\u001B[38;5;241;43m.\u001B[39;49m\u001B[43m_dataset_fetcher\u001B[49m\u001B[38;5;241;43m.\u001B[39;49m\u001B[43mfetch\u001B[49m\u001B[43m(\u001B[49m\u001B[43mindex\u001B[49m\u001B[43m)\u001B[49m  \u001B[38;5;66;03m# may raise StopIteration\u001B[39;00m\n\u001B[1;32m    675\u001B[0m     \u001B[38;5;28;01mif\u001B[39;00m \u001B[38;5;28mself\u001B[39m\u001B[38;5;241m.\u001B[39m_pin_memory:\n\u001B[1;32m    676\u001B[0m         data \u001B[38;5;241m=\u001B[39m _utils\u001B[38;5;241m.\u001B[39mpin_memory\u001B[38;5;241m.\u001B[39mpin_memory(data, \u001B[38;5;28mself\u001B[39m\u001B[38;5;241m.\u001B[39m_pin_memory_device)\n",
      "File \u001B[0;32m~/Documents/PycharmProjects/FashionDescription/venv/lib/python3.11/site-packages/torch/utils/data/_utils/fetch.py:51\u001B[0m, in \u001B[0;36m_MapDatasetFetcher.fetch\u001B[0;34m(self, possibly_batched_index)\u001B[0m\n\u001B[1;32m     49\u001B[0m         data \u001B[38;5;241m=\u001B[39m \u001B[38;5;28mself\u001B[39m\u001B[38;5;241m.\u001B[39mdataset\u001B[38;5;241m.\u001B[39m__getitems__(possibly_batched_index)\n\u001B[1;32m     50\u001B[0m     \u001B[38;5;28;01melse\u001B[39;00m:\n\u001B[0;32m---> 51\u001B[0m         data \u001B[38;5;241m=\u001B[39m \u001B[43m[\u001B[49m\u001B[38;5;28;43mself\u001B[39;49m\u001B[38;5;241;43m.\u001B[39;49m\u001B[43mdataset\u001B[49m\u001B[43m[\u001B[49m\u001B[43midx\u001B[49m\u001B[43m]\u001B[49m\u001B[43m \u001B[49m\u001B[38;5;28;43;01mfor\u001B[39;49;00m\u001B[43m \u001B[49m\u001B[43midx\u001B[49m\u001B[43m \u001B[49m\u001B[38;5;129;43;01min\u001B[39;49;00m\u001B[43m \u001B[49m\u001B[43mpossibly_batched_index\u001B[49m\u001B[43m]\u001B[49m\n\u001B[1;32m     52\u001B[0m \u001B[38;5;28;01melse\u001B[39;00m:\n\u001B[1;32m     53\u001B[0m     data \u001B[38;5;241m=\u001B[39m \u001B[38;5;28mself\u001B[39m\u001B[38;5;241m.\u001B[39mdataset[possibly_batched_index]\n",
      "File \u001B[0;32m~/Documents/PycharmProjects/FashionDescription/venv/lib/python3.11/site-packages/torch/utils/data/_utils/fetch.py:51\u001B[0m, in \u001B[0;36m<listcomp>\u001B[0;34m(.0)\u001B[0m\n\u001B[1;32m     49\u001B[0m         data \u001B[38;5;241m=\u001B[39m \u001B[38;5;28mself\u001B[39m\u001B[38;5;241m.\u001B[39mdataset\u001B[38;5;241m.\u001B[39m__getitems__(possibly_batched_index)\n\u001B[1;32m     50\u001B[0m     \u001B[38;5;28;01melse\u001B[39;00m:\n\u001B[0;32m---> 51\u001B[0m         data \u001B[38;5;241m=\u001B[39m [\u001B[38;5;28;43mself\u001B[39;49m\u001B[38;5;241;43m.\u001B[39;49m\u001B[43mdataset\u001B[49m\u001B[43m[\u001B[49m\u001B[43midx\u001B[49m\u001B[43m]\u001B[49m \u001B[38;5;28;01mfor\u001B[39;00m idx \u001B[38;5;129;01min\u001B[39;00m possibly_batched_index]\n\u001B[1;32m     52\u001B[0m \u001B[38;5;28;01melse\u001B[39;00m:\n\u001B[1;32m     53\u001B[0m     data \u001B[38;5;241m=\u001B[39m \u001B[38;5;28mself\u001B[39m\u001B[38;5;241m.\u001B[39mdataset[possibly_batched_index]\n",
      "Cell \u001B[0;32mIn[5], line 46\u001B[0m, in \u001B[0;36mImageTextDataset.__getitem__\u001B[0;34m(self, idx)\u001B[0m\n\u001B[1;32m     43\u001B[0m \u001B[38;5;28;01melse\u001B[39;00m:\n\u001B[1;32m     44\u001B[0m     image \u001B[38;5;241m=\u001B[39m \u001B[38;5;28mself\u001B[39m\u001B[38;5;241m.\u001B[39mimage_cache[image_path]  \u001B[38;5;66;03m# 从缓存中获取图像\u001B[39;00m\n\u001B[0;32m---> 46\u001B[0m indices \u001B[38;5;241m=\u001B[39m \u001B[43mvocabulary\u001B[49m\u001B[38;5;241;43m.\u001B[39;49m\u001B[43mencode\u001B[49m\u001B[43m(\u001B[49m\u001B[38;5;28;43mself\u001B[39;49m\u001B[38;5;241;43m.\u001B[39;49m\u001B[43mlabels\u001B[49m\u001B[43m[\u001B[49m\u001B[43midx\u001B[49m\u001B[43m]\u001B[49m\u001B[43m,\u001B[49m\u001B[43m \u001B[49m\u001B[43mfixed_length\u001B[49m\u001B[38;5;241;43m=\u001B[39;49m\u001B[38;5;28;43mself\u001B[39;49m\u001B[38;5;241;43m.\u001B[39;49m\u001B[43mmax_seq_len\u001B[49m\u001B[43m)\u001B[49m\n\u001B[1;32m     47\u001B[0m seq \u001B[38;5;241m=\u001B[39m torch\u001B[38;5;241m.\u001B[39mLongTensor(np\u001B[38;5;241m.\u001B[39marray(indices))\n\u001B[1;32m     49\u001B[0m \u001B[38;5;28;01mreturn\u001B[39;00m image, seq\n",
      "Cell \u001B[0;32mIn[2], line 77\u001B[0m, in \u001B[0;36mVocabulary.encode\u001B[0;34m(self, sentence, fixed_length)\u001B[0m\n\u001B[1;32m     70\u001B[0m \u001B[38;5;28;01mdef\u001B[39;00m \u001B[38;5;21mencode\u001B[39m(\u001B[38;5;28mself\u001B[39m, sentence, fixed_length\u001B[38;5;241m=\u001B[39m\u001B[38;5;28;01mNone\u001B[39;00m) \u001B[38;5;241m-\u001B[39m\u001B[38;5;241m>\u001B[39m List[\u001B[38;5;28mint\u001B[39m]:\n\u001B[1;32m     71\u001B[0m \u001B[38;5;250m    \u001B[39m\u001B[38;5;124;03m\"\"\"\u001B[39;00m\n\u001B[1;32m     72\u001B[0m \u001B[38;5;124;03m    将文本编码为序列\u001B[39;00m\n\u001B[1;32m     73\u001B[0m \u001B[38;5;124;03m    :param sentence:\u001B[39;00m\n\u001B[1;32m     74\u001B[0m \u001B[38;5;124;03m    :param\u001B[39;00m\n\u001B[1;32m     75\u001B[0m \u001B[38;5;124;03m    :return:\u001B[39;00m\n\u001B[1;32m     76\u001B[0m \u001B[38;5;124;03m    \"\"\"\u001B[39;00m\n\u001B[0;32m---> 77\u001B[0m     indices \u001B[38;5;241m=\u001B[39m [\u001B[38;5;28mself\u001B[39m\u001B[38;5;241m.\u001B[39mstart] \u001B[38;5;241m+\u001B[39m [\u001B[38;5;28mself\u001B[39m[token\u001B[38;5;241m.\u001B[39mtext\u001B[38;5;241m.\u001B[39mlower()] \u001B[38;5;28;01mfor\u001B[39;00m token \u001B[38;5;129;01min\u001B[39;00m \u001B[38;5;28;43mself\u001B[39;49m\u001B[38;5;241;43m.\u001B[39;49m\u001B[43mnlp\u001B[49m\u001B[43m(\u001B[49m\u001B[43msentence\u001B[49m\u001B[43m)\u001B[49m] \u001B[38;5;241m+\u001B[39m [\u001B[38;5;28mself\u001B[39m\u001B[38;5;241m.\u001B[39mend]\n\u001B[1;32m     78\u001B[0m     \u001B[38;5;28;01mif\u001B[39;00m fixed_length \u001B[38;5;129;01mis\u001B[39;00m \u001B[38;5;129;01mnot\u001B[39;00m \u001B[38;5;28;01mNone\u001B[39;00m:\n\u001B[1;32m     79\u001B[0m         indices \u001B[38;5;241m=\u001B[39m (indices \u001B[38;5;241m+\u001B[39m [\u001B[38;5;28mself\u001B[39m\u001B[38;5;241m.\u001B[39mpad] \u001B[38;5;241m*\u001B[39m (fixed_length \u001B[38;5;241m-\u001B[39m \u001B[38;5;28mlen\u001B[39m(indices)))[:fixed_length]\n",
      "File \u001B[0;32m~/Documents/PycharmProjects/FashionDescription/venv/lib/python3.11/site-packages/spacy/language.py:1049\u001B[0m, in \u001B[0;36mLanguage.__call__\u001B[0;34m(self, text, disable, component_cfg)\u001B[0m\n\u001B[1;32m   1047\u001B[0m     error_handler \u001B[38;5;241m=\u001B[39m proc\u001B[38;5;241m.\u001B[39mget_error_handler()\n\u001B[1;32m   1048\u001B[0m \u001B[38;5;28;01mtry\u001B[39;00m:\n\u001B[0;32m-> 1049\u001B[0m     doc \u001B[38;5;241m=\u001B[39m \u001B[43mproc\u001B[49m\u001B[43m(\u001B[49m\u001B[43mdoc\u001B[49m\u001B[43m,\u001B[49m\u001B[43m \u001B[49m\u001B[38;5;241;43m*\u001B[39;49m\u001B[38;5;241;43m*\u001B[39;49m\u001B[43mcomponent_cfg\u001B[49m\u001B[38;5;241;43m.\u001B[39;49m\u001B[43mget\u001B[49m\u001B[43m(\u001B[49m\u001B[43mname\u001B[49m\u001B[43m,\u001B[49m\u001B[43m \u001B[49m\u001B[43m{\u001B[49m\u001B[43m}\u001B[49m\u001B[43m)\u001B[49m\u001B[43m)\u001B[49m  \u001B[38;5;66;03m# type: ignore[call-arg]\u001B[39;00m\n\u001B[1;32m   1050\u001B[0m \u001B[38;5;28;01mexcept\u001B[39;00m \u001B[38;5;167;01mKeyError\u001B[39;00m \u001B[38;5;28;01mas\u001B[39;00m e:\n\u001B[1;32m   1051\u001B[0m     \u001B[38;5;66;03m# This typically happens if a component is not initialized\u001B[39;00m\n\u001B[1;32m   1052\u001B[0m     \u001B[38;5;28;01mraise\u001B[39;00m \u001B[38;5;167;01mValueError\u001B[39;00m(Errors\u001B[38;5;241m.\u001B[39mE109\u001B[38;5;241m.\u001B[39mformat(name\u001B[38;5;241m=\u001B[39mname)) \u001B[38;5;28;01mfrom\u001B[39;00m \u001B[38;5;21;01me\u001B[39;00m\n",
      "File \u001B[0;32m~/Documents/PycharmProjects/FashionDescription/venv/lib/python3.11/site-packages/spacy/pipeline/lemmatizer.py:135\u001B[0m, in \u001B[0;36mLemmatizer.__call__\u001B[0;34m(self, doc)\u001B[0m\n\u001B[1;32m    133\u001B[0m     \u001B[38;5;28;01mfor\u001B[39;00m token \u001B[38;5;129;01min\u001B[39;00m doc:\n\u001B[1;32m    134\u001B[0m         \u001B[38;5;28;01mif\u001B[39;00m \u001B[38;5;28mself\u001B[39m\u001B[38;5;241m.\u001B[39moverwrite \u001B[38;5;129;01mor\u001B[39;00m token\u001B[38;5;241m.\u001B[39mlemma \u001B[38;5;241m==\u001B[39m \u001B[38;5;241m0\u001B[39m:\n\u001B[0;32m--> 135\u001B[0m             token\u001B[38;5;241m.\u001B[39mlemma_ \u001B[38;5;241m=\u001B[39m \u001B[38;5;28;43mself\u001B[39;49m\u001B[38;5;241;43m.\u001B[39;49m\u001B[43mlemmatize\u001B[49m\u001B[43m(\u001B[49m\u001B[43mtoken\u001B[49m\u001B[43m)\u001B[49m[\u001B[38;5;241m0\u001B[39m]\n\u001B[1;32m    136\u001B[0m     \u001B[38;5;28;01mreturn\u001B[39;00m doc\n\u001B[1;32m    137\u001B[0m \u001B[38;5;28;01mexcept\u001B[39;00m \u001B[38;5;167;01mException\u001B[39;00m \u001B[38;5;28;01mas\u001B[39;00m e:\n",
      "File \u001B[0;32m~/Documents/PycharmProjects/FashionDescription/venv/lib/python3.11/site-packages/spacy/pipeline/lemmatizer.py:216\u001B[0m, in \u001B[0;36mLemmatizer.rule_lemmatize\u001B[0;34m(self, token)\u001B[0m\n\u001B[1;32m    214\u001B[0m \u001B[38;5;28;01mif\u001B[39;00m \u001B[38;5;28mself\u001B[39m\u001B[38;5;241m.\u001B[39mis_base_form(token):\n\u001B[1;32m    215\u001B[0m     \u001B[38;5;28;01mreturn\u001B[39;00m [string\u001B[38;5;241m.\u001B[39mlower()]\n\u001B[0;32m--> 216\u001B[0m index_table \u001B[38;5;241m=\u001B[39m \u001B[38;5;28;43mself\u001B[39;49m\u001B[38;5;241;43m.\u001B[39;49m\u001B[43mlookups\u001B[49m\u001B[38;5;241;43m.\u001B[39;49m\u001B[43mget_table\u001B[49m\u001B[43m(\u001B[49m\u001B[38;5;124;43m\"\u001B[39;49m\u001B[38;5;124;43mlemma_index\u001B[39;49m\u001B[38;5;124;43m\"\u001B[39;49m\u001B[43m,\u001B[49m\u001B[43m \u001B[49m\u001B[43m{\u001B[49m\u001B[43m}\u001B[49m\u001B[43m)\u001B[49m\n\u001B[1;32m    217\u001B[0m exc_table \u001B[38;5;241m=\u001B[39m \u001B[38;5;28mself\u001B[39m\u001B[38;5;241m.\u001B[39mlookups\u001B[38;5;241m.\u001B[39mget_table(\u001B[38;5;124m\"\u001B[39m\u001B[38;5;124mlemma_exc\u001B[39m\u001B[38;5;124m\"\u001B[39m, {})\n\u001B[1;32m    218\u001B[0m rules_table \u001B[38;5;241m=\u001B[39m \u001B[38;5;28mself\u001B[39m\u001B[38;5;241m.\u001B[39mlookups\u001B[38;5;241m.\u001B[39mget_table(\u001B[38;5;124m\"\u001B[39m\u001B[38;5;124mlemma_rules\u001B[39m\u001B[38;5;124m\"\u001B[39m, {})\n",
      "File \u001B[0;32m~/Documents/PycharmProjects/FashionDescription/venv/lib/python3.11/site-packages/spacy/lookups.py:220\u001B[0m, in \u001B[0;36mLookups.get_table\u001B[0;34m(self, name, default)\u001B[0m\n\u001B[1;32m    211\u001B[0m \u001B[38;5;250m    \u001B[39m\u001B[38;5;124;03m\"\"\"Set a table.\u001B[39;00m\n\u001B[1;32m    212\u001B[0m \n\u001B[1;32m    213\u001B[0m \u001B[38;5;124;03m    name (str): Name of the table to set.\u001B[39;00m\n\u001B[0;32m   (...)\u001B[0m\n\u001B[1;32m    216\u001B[0m \u001B[38;5;124;03m    DOCS: https://spacy.io/api/lookups#set_table\u001B[39;00m\n\u001B[1;32m    217\u001B[0m \u001B[38;5;124;03m    \"\"\"\u001B[39;00m\n\u001B[1;32m    218\u001B[0m     \u001B[38;5;28mself\u001B[39m\u001B[38;5;241m.\u001B[39m_tables[name] \u001B[38;5;241m=\u001B[39m table\n\u001B[0;32m--> 220\u001B[0m \u001B[38;5;28;01mdef\u001B[39;00m \u001B[38;5;21mget_table\u001B[39m(\u001B[38;5;28mself\u001B[39m, name: \u001B[38;5;28mstr\u001B[39m, default: Any \u001B[38;5;241m=\u001B[39m UNSET) \u001B[38;5;241m-\u001B[39m\u001B[38;5;241m>\u001B[39m Table:\n\u001B[1;32m    221\u001B[0m \u001B[38;5;250m    \u001B[39m\u001B[38;5;124;03m\"\"\"Get a table. Raises an error if the table doesn't exist and no\u001B[39;00m\n\u001B[1;32m    222\u001B[0m \u001B[38;5;124;03m    default value is provided.\u001B[39;00m\n\u001B[1;32m    223\u001B[0m \n\u001B[0;32m   (...)\u001B[0m\n\u001B[1;32m    228\u001B[0m \u001B[38;5;124;03m    DOCS: https://spacy.io/api/lookups#get_table\u001B[39;00m\n\u001B[1;32m    229\u001B[0m \u001B[38;5;124;03m    \"\"\"\u001B[39;00m\n\u001B[1;32m    230\u001B[0m     \u001B[38;5;28;01mif\u001B[39;00m name \u001B[38;5;129;01mnot\u001B[39;00m \u001B[38;5;129;01min\u001B[39;00m \u001B[38;5;28mself\u001B[39m\u001B[38;5;241m.\u001B[39m_tables:\n",
      "\u001B[0;31mKeyboardInterrupt\u001B[0m: "
     ]
    }
   ],
   "source": [
    "# 损失函数和优化器\n",
    "criterion = nn.CrossEntropyLoss().to(device)\n",
    "optimizer = torch.optim.Adam(model.parameters(), lr=lr)\n",
    "\n",
    "writer = SummaryWriter('runs/fashion_description')\n",
    "\n",
    "# 训练循环\n",
    "p_bar = tqdm(range(epochs))\n",
    "model = model.to(device)\n",
    "save_interval = timedelta(minutes=2)\n",
    "\n",
    "for epoch in p_bar:\n",
    "    running_loss = 0.0\n",
    "    val_correct = 0\n",
    "    val_total = 0\n",
    "    val_loss = 0.\n",
    "    meteor_acc = 0.\n",
    "\n",
    "    model.train()\n",
    "    last_save_time = datetime.now()\n",
    "    for batch_idx, (image, seq) in enumerate(train_loader):\n",
    "        image = image.to(device)  # 图像数据\n",
    "        seq = seq.to(device)  # 序列数据\n",
    "\n",
    "        input_seq = seq[:, :-1]  # (batch, seq_len - 1)\n",
    "        target_seq = seq[:, 1:]  # (batch, seq_len - 1)\n",
    "\n",
    "        # 开始训练\n",
    "        optimizer.zero_grad()\n",
    "        prediction, _ = model(image, input_seq)  # (batch, seq_len - 1, vocabulary_size)\n",
    "        loss = criterion(prediction.view(-1, vocabulary.size), target_seq.contiguous().view(-1))\n",
    "        loss.backward()\n",
    "        optimizer.step()\n",
    "\n",
    "        time_since_last_save = datetime.now() - last_save_time\n",
    "\n",
    "        if time_since_last_save > save_interval:  # 每隔两分钟自动保存\n",
    "            last_save_time = datetime.now()\n",
    "            torch.save(model.state_dict(), model_path)\n",
    "\n",
    "        # 记录结果\n",
    "        running_loss += loss.item()\n",
    "        p_bar.set_postfix(progress=f'{(batch_idx + 1)} / {len(train_loader)}',\n",
    "                          loss=f'{running_loss / (batch_idx + 1):.4f}',\n",
    "                          val_acc=f'{val_accuracies[-1] if len(val_accuracies) else 0.0:.4f}%',\n",
    "                          val_loss=f'{val_losses[-1] if len(val_losses) else 0.0:.4f}',\n",
    "                          save_count_down=(save_interval - time_since_last_save).total_seconds())\n",
    "        writer.add_scalar('Loss/train', running_loss / (batch_idx + 1), epoch * len(train_loader) + batch_idx)\n",
    "\n",
    "    model.eval()\n",
    "    for batch_idx, (image, seq) in enumerate(val_loader):\n",
    "        with torch.no_grad():\n",
    "            seq = seq.to(device)\n",
    "            image = image.to(device)\n",
    "\n",
    "            input_seq = seq[:, :-1]  # (batch, seq_len - 1)\n",
    "            target_seq = seq[:, 1:]  # (batch, seq_len - 1)\n",
    "\n",
    "            output, _ = model(image, input_seq)  # (batch, seq_len - 1, voc_size)\n",
    "\n",
    "            y_pred = output.reshape(-1, vocabulary.size)  # (batch * (seq_len - 1), voc_size)\n",
    "\n",
    "            y_gt = target_seq.flatten()  # (batch * (seq_len - 1), )\n",
    "            mask = ~torch.bitwise_or(y_gt == vocabulary.end, y_gt == vocabulary.pad)  # 掩码掉终止符和填充符\n",
    "\n",
    "            loss = criterion(y_pred, y_gt)  # 计算损失\n",
    "            rest = (y_pred.max(dim=1)[1] == y_gt)[mask]\n",
    "\n",
    "            all_valid_cnt = mask.sum().item()\n",
    "            true_valid_cnt = rest.sum().item()\n",
    "            val_correct += true_valid_cnt  # 在非特殊字符上计算准确率\n",
    "            val_total += all_valid_cnt\n",
    "            val_loss += loss.item()\n",
    "\n",
    "        p_bar.set_postfix(progress=f'{(batch_idx + 1) / len(train_loader) * 100:.3f}%',\n",
    "                          loss=f'{running_loss / len(train_loader):.4f}',\n",
    "                          val_acc=f'{val_correct / (val_total + 0.0001) * 100:.4f}%',\n",
    "                          val_loss=f'{val_loss / (batch_idx + 1):.4f}',\n",
    "                          mask_ratio=f'{len(rest)} / {len(y_gt)}')\n",
    "        writer.add_scalar('Loss/val', val_loss / (batch_idx + 1), epoch * len(val_loader) + batch_idx)\n",
    "\n",
    "    writer.add_scalar('Accuracy/val', val_correct / val_total * 100)\n",
    "    running_losses.append(running_loss / len(train_loader))\n",
    "    torch.save(model.state_dict(), model_path)\n",
    "    val_accuracy = val_correct / val_total * 100\n",
    "    val_accuracies.append(val_accuracy)\n",
    "    val_losses.append(val_loss / len(val_loader))\n",
    "    np.save(history_path, np.array([running_losses, val_losses, val_accuracies]))"
   ],
   "metadata": {
    "collapsed": false,
    "ExecuteTime": {
     "end_time": "2023-12-25T10:18:20.758691278Z",
     "start_time": "2023-12-25T08:11:24.351053505Z"
    }
   },
   "id": "f1764b343a54d1f6"
  },
  {
   "cell_type": "code",
   "execution_count": 14,
   "outputs": [],
   "source": [
    "def visualize_attention(original_image, attention_weights):\n",
    "    # 将注意力权重重塑为原始图像的尺寸\n",
    "    # 注意：这里需要根据图像特征图的尺寸和原始图像尺寸进行调整\n",
    "    attention_map = attention_weights.view(original_image.size(1), original_image.size(2))\n",
    "\n",
    "    # 可视化\n",
    "    plt.imshow(original_image)\n",
    "    plt.imshow(attention_map, cmap='jet', alpha=0.6)  # 可调整透明度\n",
    "    plt.show()\n",
    "    d\n",
    "def predict_sequence(image, model, vocabulary: Vocabulary, start_seq='', max_seq_len=25, device='cpu'):\n",
    "    model = model.to(device)\n",
    "    \n",
    "    # 初始化序列\n",
    "    seq = vocabulary.encode(start_seq)[:-1]  # 去掉末尾的<end>\n",
    "    model.eval()\n",
    "    for _ in range(max_seq_len):\n",
    "        probs, attention_weights = model.predict(image, seq, device)  # (vocab_size)\n",
    "        # next_word_idx = probs.max(dim=1)[1].item()\n",
    "        next_word_idx = distributions.Categorical(probs).sample().item()  # 采样\n",
    "        seq.append(next_word_idx)\n",
    "        # visualize_attention(image, attention_weights)\n",
    "        if next_word_idx == vocabulary.end:\n",
    "            break\n",
    "        \n",
    "    # 将索引转换为文本\n",
    "    text = vocabulary.decode(seq)\n",
    "    return text\n",
    "\n",
    "\n",
    "def generate_description(model, image, vocab, device, max_length=50):\n",
    "    image = transform(image).unsqueeze(0).to(device)  # -> (1, channel, img_size, img_size)\n",
    "\n",
    "    # 初始化序列，开始标记\n",
    "    seq = [vocab.start]\n",
    "    # 将图像和文本序列放入设备（例如 GPU）\n",
    "    image = image.to(device)\n",
    "    seq = torch.tensor(seq, dtype=torch.long, device=device).unsqueeze(0)\n",
    "\n",
    "    # 生成描述\n",
    "    for _ in range(max_length):\n",
    "        # 生成输出和注意力权重\n",
    "        with torch.no_grad():\n",
    "            output, _ = model(image, seq)\n",
    "        \n",
    "        # 从输出中获取最后一个词的索引\n",
    "        predicted = output.argmax(2)[:, -1]\n",
    "        seq = torch.cat((seq, predicted.unsqueeze(1)), dim=1)\n",
    "\n",
    "        # 检查是否达到了终止符<end>\n",
    "        if predicted.item() == vocab.end:\n",
    "            break\n",
    "\n",
    "    # 将序列转换为单词列表'\n",
    "    seq = seq.squeeze(0).cpu().numpy().tolist()\n",
    "    text = vocab.decode(seq)\n",
    "\n",
    "    return text"
   ],
   "metadata": {
    "collapsed": false,
    "ExecuteTime": {
     "end_time": "2023-12-25T10:18:24.143741328Z",
     "start_time": "2023-12-25T10:18:24.136941138Z"
    }
   },
   "id": "7734922f36ce02de"
  },
  {
   "cell_type": "code",
   "execution_count": 15,
   "outputs": [],
   "source": [
    "full_val_set = ImageTextDataset(root_dir=root_dir, vocabulary=vocabulary, max_seq_len=max_seq_length,\n",
    "                                transform=transform, train=True, split=False)"
   ],
   "metadata": {
    "collapsed": false,
    "ExecuteTime": {
     "end_time": "2023-12-25T10:18:24.954341122Z",
     "start_time": "2023-12-25T10:18:24.938728595Z"
    }
   },
   "id": "4fbd8501c355e0fd"
  },
  {
   "cell_type": "code",
   "execution_count": 25,
   "outputs": [
    {
     "data": {
      "text/plain": "<Figure size 640x480 with 1 Axes>",
      "image/png": "[encoded data removed]"
     },
     "metadata": {},
     "output_type": "display_data"
    },
    {
     "name": "stdout",
     "output_type": "stream",
     "text": [
      "result:  Lady the her lady of the t the t the t t the t the the t the the the t the t the t top the t the t-shirt wears wearing wears neckline shirt shirt shirt lady-shirt is wears of of of wears of the t the length top has of of is of lady wears of-point lady wears of the female has of of lady on fabric the lady wears of of is of the lady on length the female lady female lady lady lady lady lady her lady of a lady the lady the lady lady lady has of is of is. the lady wears three lady has the lady \n",
      "\n",
      "answer: Her shirt has long sleeves, cotton fabric and graphic patterns. It has a v-shape neckline. This lady wears a long trousers. The trousers are with denim fabric and solid color patterns. There is a ring on her finger. There is an accessory on her wrist. \n",
      "\n",
      "rouge_l score:  0.3272727224727273\n"
     ]
    },
    {
     "name": "stderr",
     "output_type": "stream",
     "text": [
      "/tmp/ipykernel_3157/1976187465.py:97: EndLabelNotFoundWarning: 没有在序列中发现终止符<end>\n",
      "  warnings.warn('没有在序列中发现终止符<end>', EndLabelNotFoundWarning)\n"
     ]
    }
   ],
   "source": [
    "i = random.choice(range(len(full_val_set)))\n",
    "image_path, description = full_val_set.get_pair(i)\n",
    "image = Image.open(image_path)\n",
    "plt.imshow(image)\n",
    "plt.axis('off')  # 可选：关闭坐标轴\n",
    "plt.show()\n",
    "\n",
    "predicted_sequence = generate_description(model, image, vocabulary, device, max_length=128)\n",
    "\n",
    "# predicted_sequence = predict_sequence(image, model, vocabulary, start_seq='', device=device, max_seq_len=max_seq_length)\n",
    "print('result: ', predicted_sequence, '\\n')\n",
    "print(f'answer:', description, '\\n')\n",
    "print('rouge_l score: ', calculate_rouge_l(predicted_sequence, description))"
   ],
   "metadata": {
    "collapsed": false,
    "ExecuteTime": {
     "end_time": "2023-12-25T10:48:01.020649147Z",
     "start_time": "2023-12-25T10:48:00.613907461Z"
    }
   },
   "id": "29f34d03b57e9502"
  },
  {
   "cell_type": "code",
   "execution_count": null,
   "outputs": [],
   "source": [],
   "metadata": {
    "collapsed": false
   },
   "id": "114d59bd48216d70"
  }
 ],
 "metadata": {
  "kernelspec": {
   "display_name": "Python 3",
   "language": "python",
   "name": "python3"
  },
  "language_info": {
   "codemirror_mode": {
    "name": "ipython",
    "version": 2
   },
   "file_extension": ".py",
   "mimetype": "text/x-python",
   "name": "python",
   "nbconvert_exporter": "python",
   "pygments_lexer": "ipython2",
   "version": "2.7.6"
  }
 },
 "nbformat": 4,
 "nbformat_minor": 5
}
